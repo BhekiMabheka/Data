{
  "nbformat": 4,
  "nbformat_minor": 0,
  "metadata": {
    "colab": {
      "private_outputs": true,
      "provenance": [],
      "authorship_tag": "ABX9TyNIXlgN7JnpFVUMVBIptSZs",
      "include_colab_link": true
    },
    "kernelspec": {
      "name": "python3",
      "display_name": "Python 3"
    },
    "language_info": {
      "name": "python"
    }
  },
  "cells": [
    {
      "cell_type": "markdown",
      "metadata": {
        "id": "view-in-github",
        "colab_type": "text"
      },
      "source": [
        "<a href=\"https://colab.research.google.com/github/BhekiMabheka/Data/blob/master/Untitled4.ipynb\" target=\"_parent\"><img src=\"https://colab.research.google.com/assets/colab-badge.svg\" alt=\"Open In Colab\"/></a>"
      ]
    },
    {
      "cell_type": "code",
      "execution_count": null,
      "metadata": {
        "id": "dtD0BfIZHImU"
      },
      "outputs": [],
      "source": [
        "!pip install plotly\n",
        "!pip install seaborn\n",
        "!pip install kaleido"
      ]
    },
    {
      "cell_type": "code",
      "source": [
        "import plotly.express as px\n",
        "df = px.data.iris()\n",
        "fig = px.scatter(\n",
        "        df, x=\"sepal_width\", y=\"sepal_length\", color=\"species\"\n",
        ")\n",
        "fig.write_image(\"fig.png\")"
      ],
      "metadata": {
        "id": "zglSzR3lHK2G"
      },
      "execution_count": null,
      "outputs": []
    },
    {
      "cell_type": "code",
      "source": [
        "fig.show('svg')"
      ],
      "metadata": {
        "id": "R9gULX49HZyT"
      },
      "execution_count": null,
      "outputs": []
    },
    {
      "cell_type": "code",
      "source": [],
      "metadata": {
        "id": "o6-BWpnwHcaX"
      },
      "execution_count": null,
      "outputs": []
    }
  ]
}